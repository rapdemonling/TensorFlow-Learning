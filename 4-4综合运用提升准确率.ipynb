{
 "cells": [
  {
   "cell_type": "code",
   "execution_count": 2,
   "metadata": {
    "collapsed": true
   },
   "outputs": [],
   "source": [
    "import tensorflow as tf\n",
    "from tensorflow.examples.tutorials.mnist import input_data"
   ]
  },
  {
   "cell_type": "code",
   "execution_count": 7,
   "metadata": {
    "collapsed": false
   },
   "outputs": [
    {
     "name": "stdout",
     "output_type": "stream",
     "text": [
      "Extracting MNIST_data\\train-images-idx3-ubyte.gz\n",
      "Extracting MNIST_data\\train-labels-idx1-ubyte.gz\n",
      "Extracting MNIST_data\\t10k-images-idx3-ubyte.gz\n",
      "Extracting MNIST_data\\t10k-labels-idx1-ubyte.gz\n",
      "Iter 0,Testing Accuracy 0.9318,Training Accuracy 0.9309091\n",
      "Iter 1,Testing Accuracy 0.9467,Training Accuracy 0.9496\n",
      "Iter 2,Testing Accuracy 0.9528,Training Accuracy 0.9585636\n",
      "Iter 3,Testing Accuracy 0.9563,Training Accuracy 0.9638182\n",
      "Iter 4,Testing Accuracy 0.9619,Training Accuracy 0.9690727\n",
      "Iter 5,Testing Accuracy 0.9632,Training Accuracy 0.9720727\n",
      "Iter 6,Testing Accuracy 0.9658,Training Accuracy 0.9760727\n",
      "Iter 7,Testing Accuracy 0.9669,Training Accuracy 0.9773273\n",
      "Iter 8,Testing Accuracy 0.9692,Training Accuracy 0.98007274\n",
      "Iter 9,Testing Accuracy 0.973,Training Accuracy 0.98205453\n",
      "Iter 10,Testing Accuracy 0.973,Training Accuracy 0.98301816\n",
      "Iter 11,Testing Accuracy 0.9725,Training Accuracy 0.9847091\n",
      "Iter 12,Testing Accuracy 0.9741,Training Accuracy 0.9857091\n",
      "Iter 13,Testing Accuracy 0.9755,Training Accuracy 0.9864909\n",
      "Iter 14,Testing Accuracy 0.9753,Training Accuracy 0.9877273\n",
      "Iter 15,Testing Accuracy 0.9759,Training Accuracy 0.9890364\n",
      "Iter 16,Testing Accuracy 0.9764,Training Accuracy 0.9890364\n",
      "Iter 17,Testing Accuracy 0.9768,Training Accuracy 0.98981816\n",
      "Iter 18,Testing Accuracy 0.9776,Training Accuracy 0.99047273\n",
      "Iter 19,Testing Accuracy 0.9785,Training Accuracy 0.9910182\n",
      "Iter 20,Testing Accuracy 0.9783,Training Accuracy 0.9914909\n"
     ]
    }
   ],
   "source": [
    "#载入数据集\n",
    "mnist = input_data.read_data_sets(\"MNIST_data\",one_hot=True)\n",
    "\n",
    "#定义每个批次的大小\n",
    "batch_size = 100\n",
    "#计算一共有多少个批次\n",
    "n_batch = mnist.train.num_examples // batch_size\n",
    "\n",
    "#定义三个placeholder\n",
    "x = tf.placeholder(tf.float32,[None,784])\n",
    "y = tf.placeholder(tf.float32,[None,10])\n",
    "keep_prob=tf.placeholder(tf.float32)\n",
    "\n",
    "#创建一个简单的神经网络\n",
    "W1 = tf.Variable(tf.truncated_normal([784,2000],stddev=0.1))\n",
    "b1 = tf.Variable(tf.zeros([2000])+0.1)\n",
    "L1 = tf.nn.tanh(tf.matmul(x,W1)+b1)\n",
    "L1_drop = tf.nn.dropout(L1,keep_prob)\n",
    "\n",
    "W2 = tf.Variable(tf.truncated_normal([2000,2000],stddev=0.1))\n",
    "b2 = tf.Variable(tf.zeros([2000])+0.1)\n",
    "L2 = tf.nn.tanh(tf.matmul(L1_drop,W2)+b2)\n",
    "L2_drop = tf.nn.dropout(L2,keep_prob)\n",
    "\n",
    "W3 = tf.Variable(tf.truncated_normal([2000,10],stddev=0.1))\n",
    "b3 = tf.Variable(tf.zeros([10])+0.1)\n",
    "prediction = tf.nn.softmax(tf.matmul(L2_drop,W3)+b3)\n",
    "\n",
    "#二次代价函数\n",
    "# loss = tf.reduce_mean(tf.square(y-prediction))\n",
    "#交叉熵\n",
    "loss = tf.reduce_mean(tf.nn.softmax_cross_entropy_with_logits(labels=y,logits=prediction))\n",
    "\n",
    "#使用梯度下降法\n",
    "# train_step = tf.train.GradientDescentOptimizer(0.2).minimize(loss)\n",
    "#使用Adam最优化方法\n",
    "train_step = tf.train.AdamOptimizer(1e-4).minimize(loss)\n",
    "\n",
    "#初始化变量\n",
    "init = tf.global_variables_initializer()\n",
    "\n",
    "#结果存放在一个布尔型列表中\n",
    "correct_prediction = tf.equal(tf.argmax(y,1),tf.argmax(prediction,1))#argmax返回一维张量中最大的值所在的位置\n",
    "#求准确率\n",
    "accuracy = tf.reduce_mean(tf.cast(correct_prediction,tf.float32))\n",
    "\n",
    "with tf.Session() as sess:\n",
    "    sess.run(init)\n",
    "    for epoch in range(21):\n",
    "        for batch in range(n_batch):\n",
    "            batch_xs,batch_ys = mnist.train.next_batch(batch_size)\n",
    "            sess.run(train_step,feed_dict={x:batch_xs,y:batch_ys,keep_prob:0.8})\n",
    "            \n",
    "        test_acc = sess.run(accuracy,feed_dict={x:mnist.test.images,y:mnist.test.labels,keep_prob:1.0})\n",
    "        train_acc = sess.run(accuracy,feed_dict={x:mnist.train.images,y:mnist.train.labels,keep_prob:1.0})\n",
    "        print(\"Iter \" + str(epoch) + \",Testing Accuracy \" + str(test_acc) + \",Training Accuracy \" + str(train_acc))"
   ]
  },
  {
   "cell_type": "code",
   "execution_count": null,
   "metadata": {
    "collapsed": true
   },
   "outputs": [],
   "source": [
    "#3层神经网络交叉熵，dropout=0.8，adam优化器1e-4，20次迭代\n",
    "Iter 0,Testing Accuracy 0.9318,Training Accuracy 0.9309091\n",
    "Iter 1,Testing Accuracy 0.9467,Training Accuracy 0.9496\n",
    "Iter 2,Testing Accuracy 0.9528,Training Accuracy 0.9585636\n",
    "Iter 3,Testing Accuracy 0.9563,Training Accuracy 0.9638182\n",
    "Iter 4,Testing Accuracy 0.9619,Training Accuracy 0.9690727\n",
    "Iter 5,Testing Accuracy 0.9632,Training Accuracy 0.9720727\n",
    "Iter 6,Testing Accuracy 0.9658,Training Accuracy 0.9760727\n",
    "Iter 7,Testing Accuracy 0.9669,Training Accuracy 0.9773273\n",
    "Iter 8,Testing Accuracy 0.9692,Training Accuracy 0.98007274\n",
    "Iter 9,Testing Accuracy 0.973,Training Accuracy 0.98205453\n",
    "Iter 10,Testing Accuracy 0.973,Training Accuracy 0.98301816\n",
    "Iter 11,Testing Accuracy 0.9725,Training Accuracy 0.9847091\n",
    "Iter 12,Testing Accuracy 0.9741,Training Accuracy 0.9857091\n",
    "Iter 13,Testing Accuracy 0.9755,Training Accuracy 0.9864909\n",
    "Iter 14,Testing Accuracy 0.9753,Training Accuracy 0.9877273\n",
    "Iter 15,Testing Accuracy 0.9759,Training Accuracy 0.9890364\n",
    "Iter 16,Testing Accuracy 0.9764,Training Accuracy 0.9890364\n",
    "Iter 17,Testing Accuracy 0.9768,Training Accuracy 0.98981816\n",
    "Iter 18,Testing Accuracy 0.9776,Training Accuracy 0.99047273\n",
    "Iter 19,Testing Accuracy 0.9785,Training Accuracy 0.9910182\n",
    "Iter 20,Testing Accuracy 0.9783,Training Accuracy 0.9914909"
   ]
  },
  {
   "cell_type": "code",
   "execution_count": null,
   "metadata": {
    "collapsed": true
   },
   "outputs": [],
   "source": []
  },
  {
   "cell_type": "code",
   "execution_count": null,
   "metadata": {
    "collapsed": true
   },
   "outputs": [],
   "source": []
  }
 ],
 "metadata": {
  "anaconda-cloud": {},
  "kernelspec": {
   "display_name": "Python [default]",
   "language": "python",
   "name": "python3"
  },
  "language_info": {
   "codemirror_mode": {
    "name": "ipython",
    "version": 3
   },
   "file_extension": ".py",
   "mimetype": "text/x-python",
   "name": "python",
   "nbconvert_exporter": "python",
   "pygments_lexer": "ipython3",
   "version": "3.5.2"
  }
 },
 "nbformat": 4,
 "nbformat_minor": 1
}
